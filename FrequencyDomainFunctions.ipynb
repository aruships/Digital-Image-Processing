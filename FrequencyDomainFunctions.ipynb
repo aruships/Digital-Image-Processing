{
  "nbformat": 4,
  "nbformat_minor": 0,
  "metadata": {
    "colab": {
      "provenance": [],
      "authorship_tag": "ABX9TyNHfwFYGrrI8sz3IVMdSQ6S",
      "include_colab_link": true
    },
    "kernelspec": {
      "name": "python3",
      "display_name": "Python 3"
    },
    "language_info": {
      "name": "python"
    }
  },
  "cells": [
    {
      "cell_type": "markdown",
      "metadata": {
        "id": "view-in-github",
        "colab_type": "text"
      },
      "source": [
        "<a href=\"https://colab.research.google.com/github/aruships/Digital-Image-Processing/blob/main/FrequencyDomainFunctions.ipynb\" target=\"_parent\"><img src=\"https://colab.research.google.com/assets/colab-badge.svg\" alt=\"Open In Colab\"/></a>"
      ]
    },
    {
      "cell_type": "code",
      "execution_count": 1,
      "metadata": {
        "id": "GLzBvbSSIuJQ"
      },
      "outputs": [],
      "source": [
        "import cv2\n",
        "import numpy as np\n",
        "\n",
        "def load_image(filename):\n",
        "    image = cv2.imread(filename, 0)\n",
        "    return image\n",
        "\n",
        "def convert_to_frequency_domain(image):\n",
        "    f = np.fft.fft2(image)\n",
        "    fshift = np.fft.fftshift(f)\n",
        "    magnitude_spectrum = 20 * np.log(np.abs(fshift))\n",
        "    return magnitude_spectrum\n"
      ]
    },
    {
      "cell_type": "code",
      "source": [
        "def apply_low_pass_filter(image, cutoff_frequency):\n",
        "    rows, cols = image.shape\n",
        "    crow, ccol = rows // 2, cols // 2\n",
        "    \n",
        "    fshift = np.fft.fftshift(np.fft.fft2(image))\n",
        "    mask = np.zeros((rows, cols), np.uint8)\n",
        "    mask[crow - cutoff_frequency:crow + cutoff_frequency, ccol - cutoff_frequency:ccol + cutoff_frequency] = 1\n",
        "    \n",
        "    fshift_filtered = fshift * mask\n",
        "    f_ishift = np.fft.ifftshift(fshift_filtered)\n",
        "    filtered_image = np.fft.ifft2(f_ishift)\n",
        "    filtered_image = np.abs(filtered_image)\n",
        "    \n",
        "    return filtered_image\n"
      ],
      "metadata": {
        "id": "_cJ6RyrrIzAl"
      },
      "execution_count": 2,
      "outputs": []
    },
    {
      "cell_type": "code",
      "source": [
        "def apply_high_pass_filter(image, cutoff_frequency):\n",
        "    rows, cols = image.shape\n",
        "    crow, ccol = rows // 2, cols // 2\n",
        "    \n",
        "    fshift = np.fft.fftshift(np.fft.fft2(image))\n",
        "    mask = np.ones((rows, cols), np.uint8)\n",
        "    mask[crow - cutoff_frequency:crow + cutoff_frequency, ccol - cutoff_frequency:ccol + cutoff_frequency] = 0\n",
        "    \n",
        "    fshift_filtered = fshift * mask\n",
        "    f_ishift = np.fft.ifftshift(fshift_filtered)\n",
        "    filtered_image = np.fft.ifft2(f_ishift)\n",
        "    filtered_image = np.abs(filtered_image)\n",
        "    \n",
        "    return filtered_image\n"
      ],
      "metadata": {
        "id": "2UlQ0-v5I0R8"
      },
      "execution_count": 3,
      "outputs": []
    },
    {
      "cell_type": "code",
      "source": [
        "def apply_band_pass_filter(image, low_cutoff, high_cutoff):\n",
        "    rows, cols = image.shape\n",
        "    crow, ccol = rows // 2, cols // 2\n",
        "    \n",
        "    fshift = np.fft.fftshift(np.fft.fft2(image))\n",
        "    mask = np.zeros((rows, cols), np.uint8)\n",
        "    mask[crow - high_cutoff:crow + high_cutoff, ccol - high_cutoff:ccol + high_cutoff] = 1\n",
        "    mask[crow - low_cutoff:crow + low_cutoff, ccol - low_cutoff:ccol + low_cutoff] = 0\n",
        "    \n",
        "    fshift_filtered = fshift * mask\n",
        "    f_ishift = np.fft.ifftshift(fshift_filtered)\n",
        "    filtered_image = np.fft.ifft2(f_ishift)\n",
        "    filtered_image = np.abs(filtered_image)\n",
        "    \n",
        "    return filtered_image\n"
      ],
      "metadata": {
        "id": "dOW_QSvFI3Sk"
      },
      "execution_count": 4,
      "outputs": []
    },
    {
      "cell_type": "code",
      "source": [
        "def apply_gaussian_low_pass_filter(image, cutoff_frequency):\n",
        "    rows, cols = image.shape\n",
        "    crow, ccol = rows // 2, cols // 2\n",
        "    \n",
        "    fshift = np.fft.fftshift(np.fft.fft2(image))\n",
        "    \n",
        "    x = np.arange(cols) - ccol\n",
        "    y = np.arange(rows) - crow\n",
        "    xx, yy = np.meshgrid(x, y)\n",
        "    radius = np.sqrt(xx**2 + yy**2)\n",
        "    \n",
        "    mask = np.exp(-(radius ** 2) / (2 * (cutoff_frequency ** 2)))\n",
        "    \n",
        "    fshift_filtered = fshift * mask\n",
        "    f_ishift = np.fft\n"
      ],
      "metadata": {
        "id": "1oH-zlDAI6c-"
      },
      "execution_count": 5,
      "outputs": []
    },
    {
      "cell_type": "code",
      "source": [
        "def apply_gaussian_high_pass_filter(image, cutoff_frequency):\n",
        "    rows, cols = image.shape\n",
        "    crow, ccol = rows // 2, cols // 2\n",
        "    \n",
        "    fshift = np.fft.fftshift(np.fft.fft2(image))\n",
        "    \n",
        "    x = np.arange(cols) - ccol\n",
        "    y = np.arange(rows) - crow\n",
        "    xx, yy = np.meshgrid(x, y)\n",
        "    radius = np.sqrt(xx**2 + yy**2)\n",
        "    \n",
        "    mask = 1 - np.exp(-(radius ** 2) / (2 * (cutoff_frequency ** 2)))\n",
        "    \n",
        "    fshift_filtered = fshift * mask\n",
        "    f_ishift = np.fft.ifftshift(fshift_filtered)\n",
        "    filtered_image = np.fft.ifft2(f_ishift)\n",
        "    filtered_image = np.abs(filtered_image)\n",
        "    \n",
        "    return filtered_image\n"
      ],
      "metadata": {
        "id": "5Xy9TwEjI6h-"
      },
      "execution_count": 6,
      "outputs": []
    },
    {
      "cell_type": "code",
      "source": [
        "def apply_butterworth_low_pass_filter(image, cutoff_frequency, order):\n",
        "    rows, cols = image.shape\n",
        "    crow, ccol = rows // 2, cols // 2\n",
        "    \n",
        "    fshift = np.fft.fftshift(np.fft.fft2(image))\n",
        "    \n",
        "    x = np.arange(cols) - ccol\n",
        "    y = np.arange(rows) - crow\n",
        "    xx, yy = np.meshgrid(x, y)\n",
        "    radius = np.sqrt(xx**2 + yy**2)\n",
        "    \n",
        "    mask = 1 / (1 + (radius / cutoff_frequency) ** (2 * order))\n",
        "    \n",
        "    fshift_filtered = fshift * mask\n",
        "    f_ishift = np.fft.ifftshift(fshift_filtered)\n",
        "    filtered_image = np.fft.ifft2(f_ishift)\n",
        "    filtered_image = np.abs(filtered_image)\n",
        "    \n",
        "    return filtered_image\n"
      ],
      "metadata": {
        "id": "9oZBiRq5I_EH"
      },
      "execution_count": 7,
      "outputs": []
    },
    {
      "cell_type": "code",
      "source": [
        "def apply_butterworth_high_pass_filter(image, cutoff_frequency, order):\n",
        "    rows, cols = image.shape\n",
        "    crow, ccol = rows // 2, cols // 2\n",
        "    \n",
        "    fshift = np.fft.fftshift(np.fft.fft2(image))\n",
        "    \n",
        "    x = np.arange(cols) - ccol\n",
        "    y = np.arange(rows) - crow\n",
        "    xx, yy = np.meshgrid(x, y)\n",
        "    radius = np.sqrt(xx**2 + yy**2)\n",
        "    \n",
        "    mask = 1 / (1 + (cutoff_frequency / radius) ** (2 * order))\n",
        "    \n",
        "    fshift_filtered = fshift * mask\n",
        "    f_ishift = np.fft.ifftshift(fshift_filtered)\n",
        "    filtered_image = np.fft.ifft2(f_ishift)\n",
        "    filtered_image = np.abs(filtered_image)\n",
        "    \n",
        "    return filtered_image\n"
      ],
      "metadata": {
        "id": "SZmKHMRQJBN_"
      },
      "execution_count": 8,
      "outputs": []
    }
  ]
}