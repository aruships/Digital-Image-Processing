{
  "nbformat": 4,
  "nbformat_minor": 0,
  "metadata": {
    "colab": {
      "provenance": [],
      "authorship_tag": "ABX9TyN6e9emmkEQEhpGsHac093v",
      "include_colab_link": true
    },
    "kernelspec": {
      "name": "python3",
      "display_name": "Python 3"
    },
    "language_info": {
      "name": "python"
    }
  },
  "cells": [
    {
      "cell_type": "markdown",
      "metadata": {
        "id": "view-in-github",
        "colab_type": "text"
      },
      "source": [
        "<a href=\"https://colab.research.google.com/github/aruships/Digital-Image-Processing/blob/main/DipFunctions.ipynb\" target=\"_parent\"><img src=\"https://colab.research.google.com/assets/colab-badge.svg\" alt=\"Open In Colab\"/></a>"
      ]
    },
    {
      "cell_type": "code",
      "execution_count": null,
      "metadata": {
        "id": "rc0FqDg4LbhE"
      },
      "outputs": [],
      "source": [
        "import cv2\n",
        "\n",
        "def grayscale(image):\n",
        "    grayscale_image = cv2.cvtColor(image, cv2.COLOR_BGR2GRAY)\n",
        "    return grayscale_image\n"
      ]
    },
    {
      "cell_type": "code",
      "source": [
        "def threshold(image, threshold_value):\n",
        "    _, binary_image = cv2.threshold(image, threshold_value, 255, cv2.THRESH_BINARY)\n",
        "    return binary_image\n"
      ],
      "metadata": {
        "id": "RA5ywVh8Lirl"
      },
      "execution_count": null,
      "outputs": []
    },
    {
      "cell_type": "code",
      "source": [
        "def blur(image, kernel_size):\n",
        "    blurred_image = cv2.blur(image, (kernel_size, kernel_size))\n",
        "    return blurred_image\n"
      ],
      "metadata": {
        "id": "WkDTlFfhLk6V"
      },
      "execution_count": null,
      "outputs": []
    },
    {
      "cell_type": "code",
      "source": [
        "def sharpen(image):\n",
        "    sharpened_image = cv2.filter2D(image, -1, np.array([[-1, -1, -1], [-1, 9, -1], [-1, -1, -1]]))\n",
        "    return sharpened_image\n"
      ],
      "metadata": {
        "id": "9SBBIe6hLsFc"
      },
      "execution_count": null,
      "outputs": []
    },
    {
      "cell_type": "code",
      "source": [
        "def detect_edges(image, min_threshold, max_threshold):\n",
        "    edges = cv2.Canny(image, min_threshold, max_threshold)\n",
        "    return edges\n"
      ],
      "metadata": {
        "id": "D2jR1ppGLu7c"
      },
      "execution_count": null,
      "outputs": []
    },
    {
      "cell_type": "code",
      "source": [
        "def rotate(image, angle):\n",
        "    rows, cols = image.shape[:2]\n",
        "    rotation_matrix = cv2.getRotationMatrix2D((cols / 2, rows / 2), angle, 1)\n",
        "    rotated_image = cv2.warpAffine(image, rotation_matrix, (cols, rows))\n",
        "    return rotated_image\n"
      ],
      "metadata": {
        "id": "SSd4pAXyLwkF"
      },
      "execution_count": null,
      "outputs": []
    },
    {
      "cell_type": "code",
      "source": [
        "def resize(image, width=None, height=None):\n",
        "    if width is not None and height is not None:\n",
        "        resized_image = cv2.resize(image, (width, height))\n",
        "    elif width is not None:\n",
        "        aspect_ratio = width / image.shape[1]\n",
        "        resized_image = cv2.resize(image, (width, int(image.shape[0] * aspect_ratio)))\n",
        "    elif height is not None:\n",
        "        aspect_ratio = height / image.shape[0]\n",
        "        resized_image = cv2.resize(image, (int(image.shape[1] * aspect_ratio), height))\n",
        "    return resized_image\n"
      ],
      "metadata": {
        "id": "-mj57500Lymk"
      },
      "execution_count": null,
      "outputs": []
    },
    {
      "cell_type": "code",
      "source": [
        "def equalize_histogram(image):\n",
        "    equalized_image = cv2.equalizeHist(image)\n",
        "    return equalized_image\n"
      ],
      "metadata": {
        "id": "48WXUcJfL0c-"
      },
      "execution_count": null,
      "outputs": []
    },
    {
      "cell_type": "code",
      "source": [
        "import numpy as np\n",
        "import matplotlib.pyplot as plt\n",
        "\n",
        "def calculate_histogram(image):\n",
        "    histogram = cv2.calcHist([image], [0], None, [256], [0, 256])\n",
        "    return histogram\n",
        "\n",
        "def plot_histogram(histogram):\n",
        "    plt.plot(histogram)\n",
        "    plt.title(\"Image Histogram\")\n",
        "    plt.xlabel(\"Pixel Value\")\n",
        "    plt.ylabel(\"Frequency\")\n",
        "    plt.show()\n"
      ],
      "metadata": {
        "id": "ExgmKYH6L738"
      },
      "execution_count": null,
      "outputs": []
    },
    {
      "cell_type": "code",
      "source": [
        "def blend_images(image1, image2, alpha):\n",
        "    blended_image = cv2.addWeighted(image1, alpha, image2, 1 - alpha, 0)\n",
        "    return blended_image\n"
      ],
      "metadata": {
        "id": "trdOULnnL8vs"
      },
      "execution_count": null,
      "outputs": []
    }
  ]
}